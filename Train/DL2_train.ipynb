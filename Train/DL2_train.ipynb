{
  "nbformat": 4,
  "nbformat_minor": 0,
  "metadata": {
    "colab": {
      "provenance": [],
      "gpuType": "T4"
    },
    "kernelspec": {
      "name": "python3",
      "display_name": "Python 3"
    },
    "language_info": {
      "name": "python"
    },
    "accelerator": "GPU",
    "gpuClass": "standard"
  },
  "cells": [
    {
      "cell_type": "code",
      "execution_count": null,
      "metadata": {
        "colab": {
          "base_uri": "https://localhost:8080/"
        },
        "id": "Aid0MX6mY1DJ",
        "outputId": "0d1b71ab-a315-4966-aa93-a16f05d89be1"
      },
      "outputs": [
        {
          "output_type": "stream",
          "name": "stdout",
          "text": [
            "/usr/local/lib/python3.10/dist-packages/gdown/cli.py:121: FutureWarning: Option `--id` was deprecated in version 4.3.1 and will be removed in 5.0. You don't need to pass it anymore to use a file ID.\n",
            "  warnings.warn(\n",
            "Downloading...\n",
            "From: https://drive.google.com/uc?id=1GH682t9d8UjKtusxRa6bl0V0lkQ0DsVV\n",
            "To: /content/train.csv\n",
            "100% 17.5M/17.5M [00:00<00:00, 73.2MB/s]\n"
          ]
        }
      ],
      "source": [
        "!gdown --id 1GH682t9d8UjKtusxRa6bl0V0lkQ0DsVV"
      ]
    },
    {
      "cell_type": "code",
      "source": [
        "\n",
        "import pandas as pd\n",
        "from sklearn.pipeline import Pipeline\n",
        "from sklearn.feature_extraction.text import CountVectorizer\n",
        "from sklearn.preprocessing import LabelEncoder\n",
        "from keras.utils import np_utils\n",
        "from keras.models import Sequential\n",
        "from keras.layers import Dense\n",
        "import tensorflow as tf"
      ],
      "metadata": {
        "id": "Lzq0J8IWZCH_"
      },
      "execution_count": null,
      "outputs": []
    },
    {
      "cell_type": "code",
      "source": [
        "train_df = pd.read_csv('train.csv')"
      ],
      "metadata": {
        "id": "pbk_U6imZIzQ"
      },
      "execution_count": null,
      "outputs": []
    },
    {
      "cell_type": "code",
      "source": [
        "train_df.head()"
      ],
      "metadata": {
        "colab": {
          "base_uri": "https://localhost:8080/",
          "height": 206
        },
        "id": "DqylwiQ1gAtW",
        "outputId": "140adebe-cba8-4084-f0bb-0c08357197b6"
      },
      "execution_count": null,
      "outputs": [
        {
          "output_type": "execute_result",
          "data": {
            "text/plain": [
              "                                                text dialect\n",
              "0                حاطينهم فوق التلاجة ولا تحت الدولاب      LY\n",
              "1   واقعة سيد عبد النعيم بعين طفل عمره سنة عمرو شوقا      EG\n",
              "2  باقي ايام رفع الحظر وامريكا في المشيه والجيه ت...      SD\n",
              "3  خالص ما مصدق عم يغني صراحة الارتب حماقي ما بعر...      LB\n",
              "4  زعما الناس تقدر تطلع وتعتصم قدام بو زي ما دارو...      LY"
            ],
            "text/html": [
              "\n",
              "  <div id=\"df-1e979dee-e72e-4bb8-b5bb-6327cfab0472\">\n",
              "    <div class=\"colab-df-container\">\n",
              "      <div>\n",
              "<style scoped>\n",
              "    .dataframe tbody tr th:only-of-type {\n",
              "        vertical-align: middle;\n",
              "    }\n",
              "\n",
              "    .dataframe tbody tr th {\n",
              "        vertical-align: top;\n",
              "    }\n",
              "\n",
              "    .dataframe thead th {\n",
              "        text-align: right;\n",
              "    }\n",
              "</style>\n",
              "<table border=\"1\" class=\"dataframe\">\n",
              "  <thead>\n",
              "    <tr style=\"text-align: right;\">\n",
              "      <th></th>\n",
              "      <th>text</th>\n",
              "      <th>dialect</th>\n",
              "    </tr>\n",
              "  </thead>\n",
              "  <tbody>\n",
              "    <tr>\n",
              "      <th>0</th>\n",
              "      <td>حاطينهم فوق التلاجة ولا تحت الدولاب</td>\n",
              "      <td>LY</td>\n",
              "    </tr>\n",
              "    <tr>\n",
              "      <th>1</th>\n",
              "      <td>واقعة سيد عبد النعيم بعين طفل عمره سنة عمرو شوقا</td>\n",
              "      <td>EG</td>\n",
              "    </tr>\n",
              "    <tr>\n",
              "      <th>2</th>\n",
              "      <td>باقي ايام رفع الحظر وامريكا في المشيه والجيه ت...</td>\n",
              "      <td>SD</td>\n",
              "    </tr>\n",
              "    <tr>\n",
              "      <th>3</th>\n",
              "      <td>خالص ما مصدق عم يغني صراحة الارتب حماقي ما بعر...</td>\n",
              "      <td>LB</td>\n",
              "    </tr>\n",
              "    <tr>\n",
              "      <th>4</th>\n",
              "      <td>زعما الناس تقدر تطلع وتعتصم قدام بو زي ما دارو...</td>\n",
              "      <td>LY</td>\n",
              "    </tr>\n",
              "  </tbody>\n",
              "</table>\n",
              "</div>\n",
              "      <button class=\"colab-df-convert\" onclick=\"convertToInteractive('df-1e979dee-e72e-4bb8-b5bb-6327cfab0472')\"\n",
              "              title=\"Convert this dataframe to an interactive table.\"\n",
              "              style=\"display:none;\">\n",
              "        \n",
              "  <svg xmlns=\"http://www.w3.org/2000/svg\" height=\"24px\"viewBox=\"0 0 24 24\"\n",
              "       width=\"24px\">\n",
              "    <path d=\"M0 0h24v24H0V0z\" fill=\"none\"/>\n",
              "    <path d=\"M18.56 5.44l.94 2.06.94-2.06 2.06-.94-2.06-.94-.94-2.06-.94 2.06-2.06.94zm-11 1L8.5 8.5l.94-2.06 2.06-.94-2.06-.94L8.5 2.5l-.94 2.06-2.06.94zm10 10l.94 2.06.94-2.06 2.06-.94-2.06-.94-.94-2.06-.94 2.06-2.06.94z\"/><path d=\"M17.41 7.96l-1.37-1.37c-.4-.4-.92-.59-1.43-.59-.52 0-1.04.2-1.43.59L10.3 9.45l-7.72 7.72c-.78.78-.78 2.05 0 2.83L4 21.41c.39.39.9.59 1.41.59.51 0 1.02-.2 1.41-.59l7.78-7.78 2.81-2.81c.8-.78.8-2.07 0-2.86zM5.41 20L4 18.59l7.72-7.72 1.47 1.35L5.41 20z\"/>\n",
              "  </svg>\n",
              "      </button>\n",
              "      \n",
              "  <style>\n",
              "    .colab-df-container {\n",
              "      display:flex;\n",
              "      flex-wrap:wrap;\n",
              "      gap: 12px;\n",
              "    }\n",
              "\n",
              "    .colab-df-convert {\n",
              "      background-color: #E8F0FE;\n",
              "      border: none;\n",
              "      border-radius: 50%;\n",
              "      cursor: pointer;\n",
              "      display: none;\n",
              "      fill: #1967D2;\n",
              "      height: 32px;\n",
              "      padding: 0 0 0 0;\n",
              "      width: 32px;\n",
              "    }\n",
              "\n",
              "    .colab-df-convert:hover {\n",
              "      background-color: #E2EBFA;\n",
              "      box-shadow: 0px 1px 2px rgba(60, 64, 67, 0.3), 0px 1px 3px 1px rgba(60, 64, 67, 0.15);\n",
              "      fill: #174EA6;\n",
              "    }\n",
              "\n",
              "    [theme=dark] .colab-df-convert {\n",
              "      background-color: #3B4455;\n",
              "      fill: #D2E3FC;\n",
              "    }\n",
              "\n",
              "    [theme=dark] .colab-df-convert:hover {\n",
              "      background-color: #434B5C;\n",
              "      box-shadow: 0px 1px 3px 1px rgba(0, 0, 0, 0.15);\n",
              "      filter: drop-shadow(0px 1px 2px rgba(0, 0, 0, 0.3));\n",
              "      fill: #FFFFFF;\n",
              "    }\n",
              "  </style>\n",
              "\n",
              "      <script>\n",
              "        const buttonEl =\n",
              "          document.querySelector('#df-1e979dee-e72e-4bb8-b5bb-6327cfab0472 button.colab-df-convert');\n",
              "        buttonEl.style.display =\n",
              "          google.colab.kernel.accessAllowed ? 'block' : 'none';\n",
              "\n",
              "        async function convertToInteractive(key) {\n",
              "          const element = document.querySelector('#df-1e979dee-e72e-4bb8-b5bb-6327cfab0472');\n",
              "          const dataTable =\n",
              "            await google.colab.kernel.invokeFunction('convertToInteractive',\n",
              "                                                     [key], {});\n",
              "          if (!dataTable) return;\n",
              "\n",
              "          const docLinkHtml = 'Like what you see? Visit the ' +\n",
              "            '<a target=\"_blank\" href=https://colab.research.google.com/notebooks/data_table.ipynb>data table notebook</a>'\n",
              "            + ' to learn more about interactive tables.';\n",
              "          element.innerHTML = '';\n",
              "          dataTable['output_type'] = 'display_data';\n",
              "          await google.colab.output.renderOutput(dataTable, element);\n",
              "          const docLink = document.createElement('div');\n",
              "          docLink.innerHTML = docLinkHtml;\n",
              "          element.appendChild(docLink);\n",
              "        }\n",
              "      </script>\n",
              "    </div>\n",
              "  </div>\n",
              "  "
            ]
          },
          "metadata": {},
          "execution_count": 4
        }
      ]
    },
    {
      "cell_type": "code",
      "source": [
        "lang = train_df['dialect'].unique()\n",
        "lang"
      ],
      "metadata": {
        "id": "eD-w5qfSmbG_",
        "colab": {
          "base_uri": "https://localhost:8080/"
        },
        "outputId": "5a8279d7-accd-4503-91e6-6c323fc6e2c7"
      },
      "execution_count": null,
      "outputs": [
        {
          "output_type": "execute_result",
          "data": {
            "text/plain": [
              "array(['LY', 'EG', 'SD', 'LB', 'MA'], dtype=object)"
            ]
          },
          "metadata": {},
          "execution_count": 5
        }
      ]
    },
    {
      "cell_type": "code",
      "source": [
        "train_df.iloc[0]['text']"
      ],
      "metadata": {
        "colab": {
          "base_uri": "https://localhost:8080/",
          "height": 35
        },
        "id": "-_uB6P9ii_E3",
        "outputId": "f9e52eac-f150-4aea-cb90-cb62222015da"
      },
      "execution_count": null,
      "outputs": [
        {
          "output_type": "execute_result",
          "data": {
            "text/plain": [
              "'حاطينهم فوق التلاجة ولا تحت الدولاب'"
            ],
            "application/vnd.google.colaboratory.intrinsic+json": {
              "type": "string"
            }
          },
          "metadata": {},
          "execution_count": 6
        }
      ]
    },
    {
      "cell_type": "code",
      "source": [
        "train_df.dropna(inplace = True)"
      ],
      "metadata": {
        "id": "JZGA2jWnjpmt"
      },
      "execution_count": null,
      "outputs": []
    },
    {
      "cell_type": "code",
      "source": [
        "print(train_df['text'].isnull().sum())\n",
        "print(train_df['text'].apply(type).value_counts())"
      ],
      "metadata": {
        "colab": {
          "base_uri": "https://localhost:8080/"
        },
        "id": "gcDT69UNh3Wu",
        "outputId": "bdd01512-346f-463a-b5b3-a7abe16a4ae9"
      },
      "execution_count": null,
      "outputs": [
        {
          "output_type": "stream",
          "name": "stdout",
          "text": [
            "0\n",
            "<class 'str'>    132872\n",
            "Name: text, dtype: int64\n"
          ]
        }
      ]
    },
    {
      "cell_type": "code",
      "source": [
        "from sklearn.feature_extraction.text import CountVectorizer\n",
        "def get_trigrams(corpus,n_feat=1200):\n",
        "    \"\"\"\n",
        "    Returns a list of the N most common character trigrams from a list of sentences\n",
        "    params\n",
        "    ------------\n",
        "        corpus: list of strings\n",
        "        n_feat: integer\n",
        "    \"\"\"\n",
        "\n",
        "    #fit the n-gram model\n",
        "    vectorizer = CountVectorizer(analyzer='char',\n",
        "                            max_features= n_feat,\n",
        "                            ngram_range=(3, 3))\n",
        "\n",
        "    X = vectorizer.fit_transform(corpus)\n",
        "\n",
        "    #Get model feature names\n",
        "    feature_names = vectorizer.get_feature_names_out()\n",
        "    return feature_names"
      ],
      "metadata": {
        "id": "dguuAjPS4LVz"
      },
      "execution_count": null,
      "outputs": []
    },
    {
      "cell_type": "code",
      "source": [
        "\n",
        "#obtain trigrams from each language\n",
        "features = {}\n",
        "features_set = set()\n",
        "lang = train_df['dialect'].unique()\n",
        "for l in lang:\n",
        "\n",
        "    #get corpus filtered by language\n",
        "    corpus = train_df[train_df.dialect==l]['text']\n",
        "    #get 200 most frequent trigrams\n",
        "    trigrams = get_trigrams(corpus)\n",
        "\n",
        "    #add to dict and set\n",
        "    features[l] = trigrams\n",
        "    features_set.update(trigrams)\n",
        "\n",
        "#create vocabulary list using feature set\n",
        "vocab = dict()\n",
        "for i,f in enumerate(features_set):\n",
        "    vocab[f]=i"
      ],
      "metadata": {
        "id": "3kbkbokn4aAU"
      },
      "execution_count": null,
      "outputs": []
    },
    {
      "cell_type": "code",
      "source": [
        "#train count vectoriser using vocabulary\n",
        "vectorizer = CountVectorizer(analyzer='char',\n",
        "                            ngram_range=(3, 3),\n",
        "                            vocabulary=vocab)\n",
        "\n",
        "#create feature matrix for training set\n",
        "corpus = train_df['text']\n",
        "X = vectorizer.fit_transform(corpus)\n",
        "feature_names = vectorizer.get_feature_names_out()\n",
        "\n",
        "train_feat = pd.DataFrame(data=X.toarray(),columns=feature_names)\n",
        "train_feat['dialect'] = list(train_df['dialect'])"
      ],
      "metadata": {
        "id": "VhsN_8fQ4Z9J"
      },
      "execution_count": null,
      "outputs": []
    },
    {
      "cell_type": "code",
      "source": [
        "from sklearn.preprocessing import LabelEncoder\n",
        "from keras.utils import np_utils\n",
        "\n",
        "encoder = LabelEncoder()\n",
        "def encode(y):\n",
        "    \"\"\"\n",
        "    Returns a list of one hot encodings\n",
        "    Params\n",
        "    ---------\n",
        "        y: list of language labels\n",
        "    \"\"\"\n",
        "    y_encoded = encoder.fit_transform(y)\n",
        "    y_dummy = np_utils.to_categorical(y_encoded)\n",
        "\n",
        "    return y_dummy"
      ],
      "metadata": {
        "id": "4rGEjhwM4Z4A"
      },
      "execution_count": null,
      "outputs": []
    },
    {
      "cell_type": "code",
      "source": [
        "from keras.models import Sequential\n",
        "from keras.layers import Dense, Dropout\n",
        "from sklearn.model_selection import train_test_split\n",
        "\n",
        "#Get training data\n",
        "X = train_feat.drop('dialect',axis=1)\n",
        "y = train_feat['dialect']\n",
        "X_train, X_test, y_train, y_test = train_test_split(X,y ,\n",
        "                                   random_state=42,\n",
        "                                   test_size=0.1)\n",
        "\n",
        "y_train = encode(y_train)\n",
        "y_test = encode(y_test)\n"
      ],
      "metadata": {
        "id": "I0iQio5V4Z1S"
      },
      "execution_count": null,
      "outputs": []
    },
    {
      "cell_type": "code",
      "source": [
        "#Define model\n",
        "model = Sequential()\n",
        "model.add(Dense(2048, activation='relu'))\n",
        "model.add(Dense(5, activation='softmax'))\n",
        "optimizer = tf.keras.optimizers.Adam(learning_rate=0.001)\n",
        "model.compile(loss='categorical_crossentropy', optimizer=optimizer, metrics=['accuracy'])\n",
        "model.fit(X_train,y_train, epochs = 10, batch_size = 128)"
      ],
      "metadata": {
        "id": "3DC-ELKM4Zye",
        "colab": {
          "base_uri": "https://localhost:8080/"
        },
        "outputId": "2b17c0ce-3a53-4dd9-a2d8-03f1457d8041"
      },
      "execution_count": null,
      "outputs": [
        {
          "output_type": "stream",
          "name": "stdout",
          "text": [
            "Epoch 1/10\n",
            "935/935 [==============================] - 9s 4ms/step - loss: 0.6934 - accuracy: 0.7493\n",
            "Epoch 2/10\n",
            "935/935 [==============================] - 5s 5ms/step - loss: 0.4791 - accuracy: 0.8306\n",
            "Epoch 3/10\n",
            "935/935 [==============================] - 4s 4ms/step - loss: 0.2497 - accuracy: 0.9201\n",
            "Epoch 4/10\n",
            "935/935 [==============================] - 4s 4ms/step - loss: 0.0871 - accuracy: 0.9784\n",
            "Epoch 5/10\n",
            "935/935 [==============================] - 4s 5ms/step - loss: 0.0297 - accuracy: 0.9951\n",
            "Epoch 6/10\n",
            "935/935 [==============================] - 4s 4ms/step - loss: 0.0206 - accuracy: 0.9965\n",
            "Epoch 7/10\n",
            "935/935 [==============================] - 4s 4ms/step - loss: 0.0231 - accuracy: 0.9949\n",
            "Epoch 8/10\n",
            "935/935 [==============================] - 5s 6ms/step - loss: 0.0246 - accuracy: 0.9941\n",
            "Epoch 9/10\n",
            "935/935 [==============================] - 5s 5ms/step - loss: 0.0172 - accuracy: 0.9965\n",
            "Epoch 10/10\n",
            "935/935 [==============================] - 4s 4ms/step - loss: 0.0117 - accuracy: 0.9977\n"
          ]
        },
        {
          "output_type": "execute_result",
          "data": {
            "text/plain": [
              "<keras.callbacks.History at 0x7f64728e9b40>"
            ]
          },
          "metadata": {},
          "execution_count": 14
        }
      ]
    },
    {
      "cell_type": "code",
      "source": [
        "from sklearn.metrics import accuracy_score\n",
        "# Obtain predicted probabilities for each class\n",
        "y_probs = model.predict(X_test)\n",
        "\n",
        "# Get the predicted class by selecting the index with highest probability\n",
        "y_pred = y_probs.argmax(axis=-1)\n",
        "\n",
        "# Inverse transform the predicted labels\n",
        "predictions = encoder.inverse_transform(y_pred)\n",
        "true_label = encoder.inverse_transform(y_test.argmax(axis=-1))\n",
        "\n",
        "# Calculate accuracy on test set\n",
        "accuracy = accuracy_score(true_label, predictions)\n",
        "print(accuracy)\n"
      ],
      "metadata": {
        "id": "boO1woPL6KuK",
        "colab": {
          "base_uri": "https://localhost:8080/"
        },
        "outputId": "38c4ddf5-e2f3-4fdf-e807-c6ccd4567364"
      },
      "execution_count": null,
      "outputs": [
        {
          "output_type": "stream",
          "name": "stdout",
          "text": [
            "416/416 [==============================] - 1s 2ms/step\n",
            "0.7740066225165563\n"
          ]
        }
      ]
    },
    {
      "cell_type": "code",
      "source": [
        "import joblib\n",
        "\n",
        "joblib.dump(model, 'model.pkl')\n",
        "joblib.dump(vectorizer, 'vectorizer.pkl')"
      ],
      "metadata": {
        "id": "a92Ocn1cakVU",
        "colab": {
          "base_uri": "https://localhost:8080/"
        },
        "outputId": "bed727ac-7d74-46fc-934e-63135134b9cf"
      },
      "execution_count": null,
      "outputs": [
        {
          "output_type": "execute_result",
          "data": {
            "text/plain": [
              "['vectorizer.pkl']"
            ]
          },
          "metadata": {},
          "execution_count": 16
        }
      ]
    },
    {
      "cell_type": "code",
      "source": [],
      "metadata": {
        "id": "Dl7kHN_Ta1wJ"
      },
      "execution_count": null,
      "outputs": []
    }
  ]
}