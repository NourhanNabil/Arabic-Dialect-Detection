{
  "nbformat": 4,
  "nbformat_minor": 0,
  "metadata": {
    "colab": {
      "provenance": []
    },
    "kernelspec": {
      "name": "python3",
      "display_name": "Python 3"
    },
    "language_info": {
      "name": "python"
    }
  },
  "cells": [
    {
      "cell_type": "code",
      "execution_count": null,
      "metadata": {
        "colab": {
          "base_uri": "https://localhost:8080/"
        },
        "id": "Aid0MX6mY1DJ",
        "outputId": "12671159-3cfc-46fa-bb7a-4dbf805e5988"
      },
      "outputs": [
        {
          "output_type": "stream",
          "name": "stdout",
          "text": [
            "/usr/local/lib/python3.10/dist-packages/gdown/cli.py:121: FutureWarning: Option `--id` was deprecated in version 4.3.1 and will be removed in 5.0. You don't need to pass it anymore to use a file ID.\n",
            "  warnings.warn(\n",
            "Downloading...\n",
            "From: https://drive.google.com/uc?id=1MactbX3-I43bJx_e_X2144bpOlBaaF7L\n",
            "To: /content/test.csv\n",
            "100% 1.94M/1.94M [00:00<00:00, 56.0MB/s]\n"
          ]
        }
      ],
      "source": [
        "!gdown --id 1MactbX3-I43bJx_e_X2144bpOlBaaF7L"
      ]
    },
    {
      "cell_type": "code",
      "source": [
        "!gdown --id 1UWlZKSh2gBsK7EywNcLeoJWo2CBPQE_y\n",
        "!gdown --id 1xkle9Ry9J_kMT-T8zsrYJ4iQ1saQ_-bY"
      ],
      "metadata": {
        "colab": {
          "base_uri": "https://localhost:8080/"
        },
        "id": "r-27rtgccvAf",
        "outputId": "2182af93-0c31-4004-de55-672c4a5f66d2"
      },
      "execution_count": null,
      "outputs": [
        {
          "output_type": "stream",
          "name": "stdout",
          "text": [
            "/usr/local/lib/python3.10/dist-packages/gdown/cli.py:121: FutureWarning: Option `--id` was deprecated in version 4.3.1 and will be removed in 5.0. You don't need to pass it anymore to use a file ID.\n",
            "  warnings.warn(\n",
            "Downloading...\n",
            "From: https://drive.google.com/uc?id=1UWlZKSh2gBsK7EywNcLeoJWo2CBPQE_y\n",
            "To: /content/vectorizer.pkl\n",
            "100% 35.0k/35.0k [00:00<00:00, 63.5MB/s]\n",
            "/usr/local/lib/python3.10/dist-packages/gdown/cli.py:121: FutureWarning: Option `--id` was deprecated in version 4.3.1 and will be removed in 5.0. You don't need to pass it anymore to use a file ID.\n",
            "  warnings.warn(\n",
            "Downloading...\n",
            "From: https://drive.google.com/uc?id=1xkle9Ry9J_kMT-T8zsrYJ4iQ1saQ_-bY\n",
            "To: /content/model.pkl\n",
            "100% 45.1M/45.1M [00:01<00:00, 25.7MB/s]\n"
          ]
        }
      ]
    },
    {
      "cell_type": "code",
      "source": [
        "import pandas as pd"
      ],
      "metadata": {
        "id": "Lzq0J8IWZCH_"
      },
      "execution_count": null,
      "outputs": []
    },
    {
      "cell_type": "code",
      "source": [
        "train_df = pd.read_csv('test.csv')"
      ],
      "metadata": {
        "id": "pbk_U6imZIzQ"
      },
      "execution_count": null,
      "outputs": []
    },
    {
      "cell_type": "code",
      "source": [
        "# Load model Preprocessing and Model\n",
        "train_df.dropna(inplace=True)"
      ],
      "metadata": {
        "id": "HwpQ0_ateC3e"
      },
      "execution_count": null,
      "outputs": []
    },
    {
      "cell_type": "code",
      "source": [
        "train_df.head()"
      ],
      "metadata": {
        "colab": {
          "base_uri": "https://localhost:8080/",
          "height": 206
        },
        "id": "GaIumTSDhaMv",
        "outputId": "c54ffe43-024f-4492-c073-52965753b816"
      },
      "execution_count": null,
      "outputs": [
        {
          "output_type": "execute_result",
          "data": {
            "text/plain": [
              "                                           text dialect\n",
              "0  عليك اله ما ظابطة انتو مجتمع بحب المشاهير بس      SD\n",
              "1    بقا عندك نيش ياحسن الحمد له افيد من المصيف      EG\n",
              "2                      لازم ينضبوا من البلد كلو      LB\n",
              "3                        مين دي خلينا ناكل معاك      EG\n",
              "4                   جمعة مباركة عليك يسعد صباحك      LB"
            ],
            "text/html": [
              "\n",
              "  <div id=\"df-ac3f02ae-35dc-4ad8-94bd-f4977b650dab\">\n",
              "    <div class=\"colab-df-container\">\n",
              "      <div>\n",
              "<style scoped>\n",
              "    .dataframe tbody tr th:only-of-type {\n",
              "        vertical-align: middle;\n",
              "    }\n",
              "\n",
              "    .dataframe tbody tr th {\n",
              "        vertical-align: top;\n",
              "    }\n",
              "\n",
              "    .dataframe thead th {\n",
              "        text-align: right;\n",
              "    }\n",
              "</style>\n",
              "<table border=\"1\" class=\"dataframe\">\n",
              "  <thead>\n",
              "    <tr style=\"text-align: right;\">\n",
              "      <th></th>\n",
              "      <th>text</th>\n",
              "      <th>dialect</th>\n",
              "    </tr>\n",
              "  </thead>\n",
              "  <tbody>\n",
              "    <tr>\n",
              "      <th>0</th>\n",
              "      <td>عليك اله ما ظابطة انتو مجتمع بحب المشاهير بس</td>\n",
              "      <td>SD</td>\n",
              "    </tr>\n",
              "    <tr>\n",
              "      <th>1</th>\n",
              "      <td>بقا عندك نيش ياحسن الحمد له افيد من المصيف</td>\n",
              "      <td>EG</td>\n",
              "    </tr>\n",
              "    <tr>\n",
              "      <th>2</th>\n",
              "      <td>لازم ينضبوا من البلد كلو</td>\n",
              "      <td>LB</td>\n",
              "    </tr>\n",
              "    <tr>\n",
              "      <th>3</th>\n",
              "      <td>مين دي خلينا ناكل معاك</td>\n",
              "      <td>EG</td>\n",
              "    </tr>\n",
              "    <tr>\n",
              "      <th>4</th>\n",
              "      <td>جمعة مباركة عليك يسعد صباحك</td>\n",
              "      <td>LB</td>\n",
              "    </tr>\n",
              "  </tbody>\n",
              "</table>\n",
              "</div>\n",
              "      <button class=\"colab-df-convert\" onclick=\"convertToInteractive('df-ac3f02ae-35dc-4ad8-94bd-f4977b650dab')\"\n",
              "              title=\"Convert this dataframe to an interactive table.\"\n",
              "              style=\"display:none;\">\n",
              "        \n",
              "  <svg xmlns=\"http://www.w3.org/2000/svg\" height=\"24px\"viewBox=\"0 0 24 24\"\n",
              "       width=\"24px\">\n",
              "    <path d=\"M0 0h24v24H0V0z\" fill=\"none\"/>\n",
              "    <path d=\"M18.56 5.44l.94 2.06.94-2.06 2.06-.94-2.06-.94-.94-2.06-.94 2.06-2.06.94zm-11 1L8.5 8.5l.94-2.06 2.06-.94-2.06-.94L8.5 2.5l-.94 2.06-2.06.94zm10 10l.94 2.06.94-2.06 2.06-.94-2.06-.94-.94-2.06-.94 2.06-2.06.94z\"/><path d=\"M17.41 7.96l-1.37-1.37c-.4-.4-.92-.59-1.43-.59-.52 0-1.04.2-1.43.59L10.3 9.45l-7.72 7.72c-.78.78-.78 2.05 0 2.83L4 21.41c.39.39.9.59 1.41.59.51 0 1.02-.2 1.41-.59l7.78-7.78 2.81-2.81c.8-.78.8-2.07 0-2.86zM5.41 20L4 18.59l7.72-7.72 1.47 1.35L5.41 20z\"/>\n",
              "  </svg>\n",
              "      </button>\n",
              "      \n",
              "  <style>\n",
              "    .colab-df-container {\n",
              "      display:flex;\n",
              "      flex-wrap:wrap;\n",
              "      gap: 12px;\n",
              "    }\n",
              "\n",
              "    .colab-df-convert {\n",
              "      background-color: #E8F0FE;\n",
              "      border: none;\n",
              "      border-radius: 50%;\n",
              "      cursor: pointer;\n",
              "      display: none;\n",
              "      fill: #1967D2;\n",
              "      height: 32px;\n",
              "      padding: 0 0 0 0;\n",
              "      width: 32px;\n",
              "    }\n",
              "\n",
              "    .colab-df-convert:hover {\n",
              "      background-color: #E2EBFA;\n",
              "      box-shadow: 0px 1px 2px rgba(60, 64, 67, 0.3), 0px 1px 3px 1px rgba(60, 64, 67, 0.15);\n",
              "      fill: #174EA6;\n",
              "    }\n",
              "\n",
              "    [theme=dark] .colab-df-convert {\n",
              "      background-color: #3B4455;\n",
              "      fill: #D2E3FC;\n",
              "    }\n",
              "\n",
              "    [theme=dark] .colab-df-convert:hover {\n",
              "      background-color: #434B5C;\n",
              "      box-shadow: 0px 1px 3px 1px rgba(0, 0, 0, 0.15);\n",
              "      filter: drop-shadow(0px 1px 2px rgba(0, 0, 0, 0.3));\n",
              "      fill: #FFFFFF;\n",
              "    }\n",
              "  </style>\n",
              "\n",
              "      <script>\n",
              "        const buttonEl =\n",
              "          document.querySelector('#df-ac3f02ae-35dc-4ad8-94bd-f4977b650dab button.colab-df-convert');\n",
              "        buttonEl.style.display =\n",
              "          google.colab.kernel.accessAllowed ? 'block' : 'none';\n",
              "\n",
              "        async function convertToInteractive(key) {\n",
              "          const element = document.querySelector('#df-ac3f02ae-35dc-4ad8-94bd-f4977b650dab');\n",
              "          const dataTable =\n",
              "            await google.colab.kernel.invokeFunction('convertToInteractive',\n",
              "                                                     [key], {});\n",
              "          if (!dataTable) return;\n",
              "\n",
              "          const docLinkHtml = 'Like what you see? Visit the ' +\n",
              "            '<a target=\"_blank\" href=https://colab.research.google.com/notebooks/data_table.ipynb>data table notebook</a>'\n",
              "            + ' to learn more about interactive tables.';\n",
              "          element.innerHTML = '';\n",
              "          dataTable['output_type'] = 'display_data';\n",
              "          await google.colab.output.renderOutput(dataTable, element);\n",
              "          const docLink = document.createElement('div');\n",
              "          docLink.innerHTML = docLinkHtml;\n",
              "          element.appendChild(docLink);\n",
              "        }\n",
              "      </script>\n",
              "    </div>\n",
              "  </div>\n",
              "  "
            ]
          },
          "metadata": {},
          "execution_count": 6
        }
      ]
    },
    {
      "cell_type": "code",
      "source": [
        "from sklearn.preprocessing import LabelEncoder\n",
        "from keras.utils import np_utils\n",
        "\n",
        "#Fit encoder\n",
        "encoder = LabelEncoder()\n",
        "#encoder.fit(lang)\n",
        "\n",
        "def encode(y):\n",
        "    \"\"\"\n",
        "    Returns a list of one hot encodings\n",
        "    Params\n",
        "    ---------\n",
        "        y: list of language labels\n",
        "    \"\"\"\n",
        "\n",
        "    y_encoded = encoder.fit_transform(y)\n",
        "    y_dummy = np_utils.to_categorical(y_encoded)\n",
        "\n",
        "    return y_dummy\n",
        ""
      ],
      "metadata": {
        "id": "1yU0fqz1cpOV"
      },
      "execution_count": null,
      "outputs": []
    },
    {
      "cell_type": "code",
      "source": [
        "import joblib\n",
        "model = joblib.load('/content/model.pkl')\n",
        "vectorizer = joblib.load(\"/content/vectorizer.pkl\")"
      ],
      "metadata": {
        "id": "m9N-Z29FdUrN"
      },
      "execution_count": null,
      "outputs": []
    },
    {
      "cell_type": "code",
      "source": [
        "X = vectorizer.fit_transform(train_df['text'])\n",
        "y = encode(train_df['dialect'])"
      ],
      "metadata": {
        "id": "wjievhW8f81d"
      },
      "execution_count": null,
      "outputs": []
    },
    {
      "cell_type": "code",
      "source": [
        "from sklearn.metrics import accuracy_score\n",
        "# Obtain predicted probabilities for each class\n",
        "y_probs = model.predict(X)\n",
        "\n",
        "# Get the predicted class by selecting the index with highest probability\n",
        "y_pred = y_probs.argmax(axis=-1)\n",
        "\n",
        "# Inverse transform the predicted labels\n",
        "predictions = encoder.inverse_transform(y_pred)\n",
        "true_label = encoder.inverse_transform(y.argmax(axis=-1))\n",
        "\n",
        "# Calculate accuracy on test set\n",
        "accuracy = accuracy_score(true_label, predictions)\n",
        "print(accuracy)"
      ],
      "metadata": {
        "id": "3tSffmtthVwp",
        "colab": {
          "base_uri": "https://localhost:8080/"
        },
        "outputId": "78fdc19e-9512-4856-e44b-0aeaa45b43a6"
      },
      "execution_count": null,
      "outputs": [
        {
          "output_type": "stream",
          "name": "stdout",
          "text": [
            "462/462 [==============================] - 6s 11ms/step\n",
            "0.780682741804389\n"
          ]
        }
      ]
    },
    {
      "cell_type": "code",
      "source": [
        "from sklearn.metrics import classification_report\n",
        "print(classification_report(predictions,true_label))"
      ],
      "metadata": {
        "colab": {
          "base_uri": "https://localhost:8080/"
        },
        "id": "FCsaEM1rcX3W",
        "outputId": "cd7305b6-3e01-4fd1-96d7-5cf28795a61d"
      },
      "execution_count": null,
      "outputs": [
        {
          "output_type": "stream",
          "name": "stdout",
          "text": [
            "              precision    recall  f1-score   support\n",
            "\n",
            "          EG       0.87      0.81      0.84      6183\n",
            "          LB       0.81      0.80      0.81      2897\n",
            "          LY       0.74      0.75      0.75      3556\n",
            "          MA       0.64      0.77      0.69       962\n",
            "          SD       0.56      0.70      0.62      1166\n",
            "\n",
            "    accuracy                           0.78     14764\n",
            "   macro avg       0.73      0.76      0.74     14764\n",
            "weighted avg       0.79      0.78      0.78     14764\n",
            "\n"
          ]
        }
      ]
    },
    {
      "cell_type": "code",
      "source": [],
      "metadata": {
        "id": "BvbbC-_tc2Jv"
      },
      "execution_count": null,
      "outputs": []
    }
  ]
}